{
  "nbformat": 4,
  "nbformat_minor": 0,
  "metadata": {
    "colab": {
      "name": "poem_model_shakespeare.ipynb",
      "provenance": [],
      "authorship_tag": "ABX9TyNHuZwv1p5mjNnPEQqtmkSJ"
    },
    "kernelspec": {
      "name": "python3",
      "display_name": "Python 3"
    },
    "accelerator": "GPU"
  },
  "cells": [
    {
      "cell_type": "code",
      "metadata": {
        "id": "ODX3YNVAbOE0",
        "colab_type": "code",
        "colab": {}
      },
      "source": [
        "from tensorflow.keras.preprocessing.sequence import pad_sequences\n",
        "from tensorflow.keras.layers import Embedding, LSTM, Dense, Dropout, Bidirectional\n",
        "from tensorflow.keras.preprocessing.text import Tokenizer\n",
        "from tensorflow.keras.models import Sequential\n",
        "from tensorflow.keras.optimizers import Adam\n",
        "from tensorflow.keras.regularizers import L2\n",
        "import tensorflow.keras.callbacks\n",
        "import tensorflow.keras.utils as ku \n",
        "import numpy as np "
      ],
      "execution_count": 1,
      "outputs": []
    },
    {
      "cell_type": "code",
      "metadata": {
        "id": "d4otvARIbWmi",
        "colab_type": "code",
        "colab": {
          "base_uri": "https://localhost:8080/",
          "height": 207
        },
        "outputId": "ee31bcf4-5cf5-48d1-fef0-3638bea8f418"
      },
      "source": [
        "!wget --no-check-certificate \\\n",
        "    https://storage.googleapis.com/laurencemoroney-blog.appspot.com/sonnets.txt \\\n",
        "    -O /tmp/sonnets.txt\n",
        "data_shakespeare = open('/tmp/sonnets.txt').read()"
      ],
      "execution_count": 2,
      "outputs": [
        {
          "output_type": "stream",
          "text": [
            "--2020-09-05 14:26:39--  https://storage.googleapis.com/laurencemoroney-blog.appspot.com/sonnets.txt\n",
            "Resolving storage.googleapis.com (storage.googleapis.com)... 74.125.142.128, 74.125.195.128, 74.125.199.128, ...\n",
            "Connecting to storage.googleapis.com (storage.googleapis.com)|74.125.142.128|:443... connected.\n",
            "HTTP request sent, awaiting response... 200 OK\n",
            "Length: 93578 (91K) [text/plain]\n",
            "Saving to: ‘/tmp/sonnets.txt’\n",
            "\n",
            "\r/tmp/sonnets.txt      0%[                    ]       0  --.-KB/s               \r/tmp/sonnets.txt    100%[===================>]  91.38K  --.-KB/s    in 0.001s  \n",
            "\n",
            "2020-09-05 14:26:39 (92.6 MB/s) - ‘/tmp/sonnets.txt’ saved [93578/93578]\n",
            "\n"
          ],
          "name": "stdout"
        }
      ]
    },
    {
      "cell_type": "code",
      "metadata": {
        "id": "J-Vo2pO-bbap",
        "colab_type": "code",
        "colab": {}
      },
      "source": [
        "tokenizer_shakespeare = Tokenizer()\n",
        "\n",
        "corpus_shakespeare  = data_shakespeare.lower().split(\"\\n\")\n",
        "\n",
        "tokenizer_shakespeare.fit_on_texts(corpus_shakespeare)\n",
        "total_words_shakespeare = len(tokenizer_shakespeare.word_index) + 1\n",
        "\n",
        "# create input sequences using list of tokens\n",
        "input_sequences_shakespeare = []\n",
        "for line in corpus_shakespeare:\n",
        "\ttoken_list = tokenizer_shakespeare.texts_to_sequences([line])[0]\n",
        "\tfor i in range(1, len(token_list)):\n",
        "\t\tn_gram_sequence = token_list[:i+1]\n",
        "\t\tinput_sequences_shakespeare.append(n_gram_sequence)\n",
        "\n",
        "\n",
        "# pad sequences \n",
        "max_sequence_len_shakespeare = max([len(x) for x in input_sequences_shakespeare])\n",
        "input_sequences_shakespeare = np.array(pad_sequences(input_sequences_shakespeare, maxlen=max_sequence_len_shakespeare, padding='pre'))\n",
        "\n",
        "# create predictors and label\n",
        "predictors_shakespeare, label_shakespeare = input_sequences_shakespeare[:,:-1],input_sequences_shakespeare[:,-1]\n",
        "\n",
        "label_shakespeare = ku.to_categorical(label_shakespeare, num_classes=total_words_shakespeare)"
      ],
      "execution_count": 3,
      "outputs": []
    },
    {
      "cell_type": "code",
      "metadata": {
        "id": "NDSCYXx1gfM-",
        "colab_type": "code",
        "colab": {
          "base_uri": "https://localhost:8080/",
          "height": 35
        },
        "outputId": "a1811ead-0fa9-4659-a46e-5c16287c0f40"
      },
      "source": [
        "print(max_sequence_len_shakespeare)"
      ],
      "execution_count": 4,
      "outputs": [
        {
          "output_type": "stream",
          "text": [
            "11\n"
          ],
          "name": "stdout"
        }
      ]
    },
    {
      "cell_type": "code",
      "metadata": {
        "id": "8rBq_bpqowLM",
        "colab_type": "code",
        "colab": {
          "base_uri": "https://localhost:8080/",
          "height": 35
        },
        "outputId": "030b0af3-e5a5-4658-c55b-8f594f3d068f"
      },
      "source": [
        "print(total_words_shakespeare)"
      ],
      "execution_count": 5,
      "outputs": [
        {
          "output_type": "stream",
          "text": [
            "3211\n"
          ],
          "name": "stdout"
        }
      ]
    },
    {
      "cell_type": "code",
      "metadata": {
        "id": "CQ7wEdktbg1i",
        "colab_type": "code",
        "colab": {
          "base_uri": "https://localhost:8080/",
          "height": 276
        },
        "outputId": "09e08f6f-de57-4609-9e12-879f32fedc45"
      },
      "source": [
        "model_shakespeare = Sequential()\n",
        "model_shakespeare.add(Embedding(total_words_shakespeare, 100, input_length=max_sequence_len_shakespeare-1))\n",
        "model_shakespeare.add(Bidirectional(LSTM(150)))\n",
        "#model_shakespeare.add(Dropout(0.2))\n",
        "#model_shakespeare.add(LSTM(10))\n",
        "#model_shakespeare.add(Dense(total_words_shakespeare/2, kernel_regularizer=L2(0.01), activation='relu'))\n",
        "model_shakespeare.add(Dense(total_words_shakespeare, activation='softmax'))\n",
        "\n",
        "optimizer = Adam(0.01)\n",
        "\n",
        "model_shakespeare.compile(loss='categorical_crossentropy', optimizer=optimizer, metrics=['accuracy'])\n",
        "print(model_shakespeare.summary())"
      ],
      "execution_count": 6,
      "outputs": [
        {
          "output_type": "stream",
          "text": [
            "Model: \"sequential\"\n",
            "_________________________________________________________________\n",
            "Layer (type)                 Output Shape              Param #   \n",
            "=================================================================\n",
            "embedding (Embedding)        (None, 10, 100)           321100    \n",
            "_________________________________________________________________\n",
            "bidirectional (Bidirectional (None, 300)               301200    \n",
            "_________________________________________________________________\n",
            "dense (Dense)                (None, 3211)              966511    \n",
            "=================================================================\n",
            "Total params: 1,588,811\n",
            "Trainable params: 1,588,811\n",
            "Non-trainable params: 0\n",
            "_________________________________________________________________\n",
            "None\n"
          ],
          "name": "stdout"
        }
      ]
    },
    {
      "cell_type": "code",
      "metadata": {
        "id": "e1Q69GLBbrYA",
        "colab_type": "code",
        "colab": {}
      },
      "source": [
        "lr_schedule = tensorflow.keras.callbacks.LearningRateScheduler(\n",
        "    lambda epoch: 1e-4 * 10**(epoch / 20))"
      ],
      "execution_count": 7,
      "outputs": []
    },
    {
      "cell_type": "code",
      "metadata": {
        "id": "9o90WRn8bwsh",
        "colab_type": "code",
        "colab": {
          "base_uri": "https://localhost:8080/",
          "height": 1000
        },
        "outputId": "ca6ccfcc-1365-4474-f157-3ab475b729c4"
      },
      "source": [
        "history_shakespeare = model_shakespeare.fit(predictors_shakespeare, label_shakespeare, epochs=80, verbose=1, \n",
        "                                #callbacks=[lr_schedule]\n",
        "                                )"
      ],
      "execution_count": 8,
      "outputs": [
        {
          "output_type": "stream",
          "text": [
            "Epoch 1/80\n",
            "484/484 [==============================] - 5s 10ms/step - loss: 6.8028 - accuracy: 0.0297\n",
            "Epoch 2/80\n",
            "484/484 [==============================] - 4s 9ms/step - loss: 6.1209 - accuracy: 0.0581\n",
            "Epoch 3/80\n",
            "484/484 [==============================] - 5s 9ms/step - loss: 5.4343 - accuracy: 0.0837\n",
            "Epoch 4/80\n",
            "484/484 [==============================] - 4s 9ms/step - loss: 4.6360 - accuracy: 0.1300\n",
            "Epoch 5/80\n",
            "484/484 [==============================] - 5s 10ms/step - loss: 3.8088 - accuracy: 0.2229\n",
            "Epoch 6/80\n",
            "484/484 [==============================] - 5s 9ms/step - loss: 3.0972 - accuracy: 0.3279\n",
            "Epoch 7/80\n",
            "484/484 [==============================] - 4s 9ms/step - loss: 2.5286 - accuracy: 0.4280\n",
            "Epoch 8/80\n",
            "484/484 [==============================] - 4s 9ms/step - loss: 2.1380 - accuracy: 0.5000\n",
            "Epoch 9/80\n",
            "484/484 [==============================] - 4s 9ms/step - loss: 1.8415 - accuracy: 0.5638\n",
            "Epoch 10/80\n",
            "484/484 [==============================] - 4s 9ms/step - loss: 1.6714 - accuracy: 0.5992\n",
            "Epoch 11/80\n",
            "484/484 [==============================] - 4s 9ms/step - loss: 1.5349 - accuracy: 0.6275\n",
            "Epoch 12/80\n",
            "484/484 [==============================] - 4s 9ms/step - loss: 1.4226 - accuracy: 0.6489\n",
            "Epoch 13/80\n",
            "484/484 [==============================] - 4s 9ms/step - loss: 1.3266 - accuracy: 0.6725\n",
            "Epoch 14/80\n",
            "484/484 [==============================] - 4s 9ms/step - loss: 1.2697 - accuracy: 0.6815\n",
            "Epoch 15/80\n",
            "484/484 [==============================] - 4s 9ms/step - loss: 1.2684 - accuracy: 0.6783\n",
            "Epoch 16/80\n",
            "484/484 [==============================] - 4s 9ms/step - loss: 1.2957 - accuracy: 0.6727\n",
            "Epoch 17/80\n",
            "484/484 [==============================] - 4s 9ms/step - loss: 1.2841 - accuracy: 0.6721\n",
            "Epoch 18/80\n",
            "484/484 [==============================] - 4s 9ms/step - loss: 1.1962 - accuracy: 0.6926\n",
            "Epoch 19/80\n",
            "484/484 [==============================] - 4s 9ms/step - loss: 1.1792 - accuracy: 0.6951\n",
            "Epoch 20/80\n",
            "484/484 [==============================] - 4s 9ms/step - loss: 1.1425 - accuracy: 0.7070\n",
            "Epoch 21/80\n",
            "484/484 [==============================] - 4s 9ms/step - loss: 1.1036 - accuracy: 0.7149\n",
            "Epoch 22/80\n",
            "484/484 [==============================] - 4s 9ms/step - loss: 1.0835 - accuracy: 0.7189\n",
            "Epoch 23/80\n",
            "484/484 [==============================] - 5s 9ms/step - loss: 1.0938 - accuracy: 0.7185\n",
            "Epoch 24/80\n",
            "484/484 [==============================] - 4s 9ms/step - loss: 1.1291 - accuracy: 0.7083\n",
            "Epoch 25/80\n",
            "484/484 [==============================] - 4s 9ms/step - loss: 1.1643 - accuracy: 0.6936\n",
            "Epoch 26/80\n",
            "484/484 [==============================] - 5s 10ms/step - loss: 1.1501 - accuracy: 0.7007\n",
            "Epoch 27/80\n",
            "484/484 [==============================] - 4s 9ms/step - loss: 1.1228 - accuracy: 0.7074\n",
            "Epoch 28/80\n",
            "484/484 [==============================] - 4s 9ms/step - loss: 1.0511 - accuracy: 0.7260\n",
            "Epoch 29/80\n",
            "484/484 [==============================] - 4s 9ms/step - loss: 1.0056 - accuracy: 0.7392\n",
            "Epoch 30/80\n",
            "484/484 [==============================] - 5s 10ms/step - loss: 1.0102 - accuracy: 0.7388\n",
            "Epoch 31/80\n",
            "484/484 [==============================] - 5s 10ms/step - loss: 1.0710 - accuracy: 0.7173\n",
            "Epoch 32/80\n",
            "484/484 [==============================] - 5s 10ms/step - loss: 1.0600 - accuracy: 0.7202\n",
            "Epoch 33/80\n",
            "484/484 [==============================] - 5s 10ms/step - loss: 1.0233 - accuracy: 0.7292\n",
            "Epoch 34/80\n",
            "484/484 [==============================] - 4s 9ms/step - loss: 1.1029 - accuracy: 0.7143\n",
            "Epoch 35/80\n",
            "484/484 [==============================] - 4s 9ms/step - loss: 1.1728 - accuracy: 0.6930\n",
            "Epoch 36/80\n",
            "484/484 [==============================] - 4s 9ms/step - loss: 1.1360 - accuracy: 0.7002\n",
            "Epoch 37/80\n",
            "484/484 [==============================] - 5s 9ms/step - loss: 1.0424 - accuracy: 0.7274\n",
            "Epoch 38/80\n",
            "484/484 [==============================] - 5s 9ms/step - loss: 1.0120 - accuracy: 0.7337\n",
            "Epoch 39/80\n",
            "484/484 [==============================] - 4s 9ms/step - loss: 1.0291 - accuracy: 0.7284\n",
            "Epoch 40/80\n",
            "484/484 [==============================] - 4s 9ms/step - loss: 1.0107 - accuracy: 0.7328\n",
            "Epoch 41/80\n",
            "484/484 [==============================] - 5s 9ms/step - loss: 1.0031 - accuracy: 0.7383\n",
            "Epoch 42/80\n",
            "484/484 [==============================] - 5s 10ms/step - loss: 1.0242 - accuracy: 0.7284\n",
            "Epoch 43/80\n",
            "484/484 [==============================] - 5s 10ms/step - loss: 1.0841 - accuracy: 0.7177\n",
            "Epoch 44/80\n",
            "484/484 [==============================] - 5s 10ms/step - loss: 1.1621 - accuracy: 0.6966\n",
            "Epoch 45/80\n",
            "484/484 [==============================] - 4s 9ms/step - loss: 1.0644 - accuracy: 0.7189\n",
            "Epoch 46/80\n",
            "484/484 [==============================] - 4s 9ms/step - loss: 1.0208 - accuracy: 0.7306\n",
            "Epoch 47/80\n",
            "484/484 [==============================] - 5s 9ms/step - loss: 1.0054 - accuracy: 0.7312\n",
            "Epoch 48/80\n",
            "484/484 [==============================] - 4s 9ms/step - loss: 1.0146 - accuracy: 0.7308\n",
            "Epoch 49/80\n",
            "484/484 [==============================] - 5s 9ms/step - loss: 1.0462 - accuracy: 0.7239\n",
            "Epoch 50/80\n",
            "484/484 [==============================] - 4s 9ms/step - loss: 1.0576 - accuracy: 0.7236\n",
            "Epoch 51/80\n",
            "484/484 [==============================] - 4s 9ms/step - loss: 0.9901 - accuracy: 0.7396\n",
            "Epoch 52/80\n",
            "484/484 [==============================] - 4s 9ms/step - loss: 0.9932 - accuracy: 0.7361\n",
            "Epoch 53/80\n",
            "484/484 [==============================] - 4s 9ms/step - loss: 1.0070 - accuracy: 0.7331\n",
            "Epoch 54/80\n",
            "484/484 [==============================] - 4s 9ms/step - loss: 1.0098 - accuracy: 0.7297\n",
            "Epoch 55/80\n",
            "484/484 [==============================] - 4s 9ms/step - loss: 1.0316 - accuracy: 0.7289\n",
            "Epoch 56/80\n",
            "484/484 [==============================] - 4s 9ms/step - loss: 0.9795 - accuracy: 0.7386\n",
            "Epoch 57/80\n",
            "484/484 [==============================] - 4s 9ms/step - loss: 0.9560 - accuracy: 0.7462\n",
            "Epoch 58/80\n",
            "484/484 [==============================] - 5s 9ms/step - loss: 0.9800 - accuracy: 0.7434\n",
            "Epoch 59/80\n",
            "484/484 [==============================] - 4s 9ms/step - loss: 1.0143 - accuracy: 0.7305\n",
            "Epoch 60/80\n",
            "484/484 [==============================] - 5s 9ms/step - loss: 1.1107 - accuracy: 0.7088\n",
            "Epoch 61/80\n",
            "484/484 [==============================] - 5s 9ms/step - loss: 1.0785 - accuracy: 0.7139\n",
            "Epoch 62/80\n",
            "484/484 [==============================] - 5s 10ms/step - loss: 1.0323 - accuracy: 0.7307\n",
            "Epoch 63/80\n",
            "484/484 [==============================] - 5s 9ms/step - loss: 1.0076 - accuracy: 0.7341\n",
            "Epoch 64/80\n",
            "484/484 [==============================] - 4s 9ms/step - loss: 0.9763 - accuracy: 0.7389\n",
            "Epoch 65/80\n",
            "484/484 [==============================] - 5s 10ms/step - loss: 0.9410 - accuracy: 0.7477\n",
            "Epoch 66/80\n",
            "484/484 [==============================] - 4s 9ms/step - loss: 0.9703 - accuracy: 0.7465\n",
            "Epoch 67/80\n",
            "484/484 [==============================] - 5s 10ms/step - loss: 0.9814 - accuracy: 0.7409\n",
            "Epoch 68/80\n",
            "484/484 [==============================] - 4s 9ms/step - loss: 1.0152 - accuracy: 0.7319\n",
            "Epoch 69/80\n",
            "484/484 [==============================] - 4s 9ms/step - loss: 0.9946 - accuracy: 0.7357\n",
            "Epoch 70/80\n",
            "484/484 [==============================] - 5s 9ms/step - loss: 0.9822 - accuracy: 0.7417\n",
            "Epoch 71/80\n",
            "484/484 [==============================] - 4s 9ms/step - loss: 0.9660 - accuracy: 0.7441\n",
            "Epoch 72/80\n",
            "484/484 [==============================] - 5s 9ms/step - loss: 0.9772 - accuracy: 0.7414\n",
            "Epoch 73/80\n",
            "484/484 [==============================] - 4s 9ms/step - loss: 0.9512 - accuracy: 0.7457\n",
            "Epoch 74/80\n",
            "484/484 [==============================] - 5s 9ms/step - loss: 0.9766 - accuracy: 0.7411\n",
            "Epoch 75/80\n",
            "484/484 [==============================] - 4s 9ms/step - loss: 0.9654 - accuracy: 0.7435\n",
            "Epoch 76/80\n",
            "484/484 [==============================] - 4s 9ms/step - loss: 0.9440 - accuracy: 0.7478\n",
            "Epoch 77/80\n",
            "484/484 [==============================] - 5s 9ms/step - loss: 0.9430 - accuracy: 0.7518\n",
            "Epoch 78/80\n",
            "484/484 [==============================] - 5s 9ms/step - loss: 0.9716 - accuracy: 0.7460\n",
            "Epoch 79/80\n",
            "484/484 [==============================] - 4s 9ms/step - loss: 1.0474 - accuracy: 0.7235\n",
            "Epoch 80/80\n",
            "484/484 [==============================] - 5s 10ms/step - loss: 1.0407 - accuracy: 0.7255\n"
          ],
          "name": "stdout"
        }
      ]
    },
    {
      "cell_type": "code",
      "metadata": {
        "id": "CoNnC9NLb4KY",
        "colab_type": "code",
        "colab": {
          "base_uri": "https://localhost:8080/",
          "height": 35
        },
        "outputId": "28ee53e2-555f-42ac-fa1e-8c3209c19283"
      },
      "source": [
        "import matplotlib.pyplot as plt\n",
        "\n",
        "\"\"\"plt.semilogx(history_shakespeare.history[\"lr\"], history_shakespeare.history[\"loss\"])\n",
        "plt.axis([1e-3, 4e-2, 0, 6])\"\"\""
      ],
      "execution_count": 9,
      "outputs": [
        {
          "output_type": "execute_result",
          "data": {
            "application/vnd.google.colaboratory.intrinsic+json": {
              "type": "string"
            },
            "text/plain": [
              "'plt.semilogx(history_shakespeare.history[\"lr\"], history_shakespeare.history[\"loss\"])\\nplt.axis([1e-3, 4e-2, 0, 6])'"
            ]
          },
          "metadata": {
            "tags": []
          },
          "execution_count": 9
        }
      ]
    },
    {
      "cell_type": "code",
      "metadata": {
        "id": "aNV5RreZb_Hf",
        "colab_type": "code",
        "colab": {
          "base_uri": "https://localhost:8080/",
          "height": 545
        },
        "outputId": "9b3ce853-0462-4b71-fd65-243d77eb3ce2"
      },
      "source": [
        "acc = history_shakespeare.history['accuracy']\n",
        "loss = history_shakespeare.history['loss']\n",
        "\n",
        "epochs = range(len(acc))\n",
        "\n",
        "plt.plot(epochs, acc, 'b', label='Training accuracy')\n",
        "plt.title('Training accuracy')\n",
        "\n",
        "plt.figure()\n",
        "\n",
        "plt.plot(epochs, loss, 'b', label='Training Loss')\n",
        "plt.title('Training loss')\n",
        "plt.legend()\n",
        "\n",
        "plt.show()"
      ],
      "execution_count": 10,
      "outputs": [
        {
          "output_type": "display_data",
          "data": {
            "image/png": "[encoded data removed]",
            "text/plain": [
              "<Figure size 432x288 with 1 Axes>"
            ]
          },
          "metadata": {
            "tags": [],
            "needs_background": "light"
          }
        },
        {
          "output_type": "display_data",
          "data": {
            "image/png": "[encoded data removed]",
            "text/plain": [
              "<Figure size 432x288 with 1 Axes>"
            ]
          },
          "metadata": {
            "tags": [],
            "needs_background": "light"
          }
        }
      ]
    },
    {
      "cell_type": "code",
      "metadata": {
        "id": "GKJe9SPJpYDq",
        "colab_type": "code",
        "colab": {
          "base_uri": "https://localhost:8080/",
          "height": 106
        },
        "outputId": "b56d7913-0b22-4ef9-b738-0b822cc7ad37"
      },
      "source": [
        "seed_text = \"Oh my dear, I have\"\n",
        "next_words = 50\n",
        "  \n",
        "for _ in range(next_words):\n",
        "\ttoken_list = tokenizer_shakespeare.texts_to_sequences([seed_text])[0]\n",
        "\ttoken_list = pad_sequences([token_list], maxlen=max_sequence_len_shakespeare-1, padding='pre')\n",
        "\tpredicted = model_shakespeare.predict_classes(token_list, verbose=0)\n",
        "\toutput_word = \"\"\n",
        "\tfor word, index in tokenizer_shakespeare.word_index.items():\n",
        "\t\tif index == predicted:\n",
        "\t\t\toutput_word = word\n",
        "\t\t\tbreak\n",
        "\tseed_text += \" \" + output_word\n",
        "print(seed_text)"
      ],
      "execution_count": 11,
      "outputs": [
        {
          "output_type": "stream",
          "text": [
            "WARNING:tensorflow:From <ipython-input-11-03d8959975f1>:7: Sequential.predict_classes (from tensorflow.python.keras.engine.sequential) is deprecated and will be removed after 2021-01-01.\n",
            "Instructions for updating:\n",
            "Please use instead:* `np.argmax(model.predict(x), axis=-1)`,   if your model does multi-class classification   (e.g. if it uses a `softmax` last-layer activation).* `(model.predict(x) > 0.5).astype(\"int32\")`,   if your model does binary classification   (e.g. if it uses a `sigmoid` last-layer activation).\n",
            "Oh my dear, I have confess'd that he doth bear her heart you ' have erred ' ' ' have ' might far mine eyes best was single best so bright ' ' ' were renew'd be call thee 'will' to boot and me 'will' ' ' have erred private ' had thee 'will' more\n"
          ],
          "name": "stdout"
        }
      ]
    },
    {
      "cell_type": "code",
      "metadata": {
        "id": "xQyOrN7Fr03N",
        "colab_type": "code",
        "colab": {}
      },
      "source": [
        "model_shakespeare.save('shakespeare_model.h5') "
      ],
      "execution_count": 13,
      "outputs": []
    },
    {
      "cell_type": "code",
      "metadata": {
        "id": "pxVRioVtsqwa",
        "colab_type": "code",
        "colab": {
          "base_uri": "https://localhost:8080/",
          "height": 17
        },
        "outputId": "6c8ae707-981f-408b-9e5b-86ae3c49a1ce"
      },
      "source": [
        "try:\n",
        "  from google.colab import files\n",
        "except ImportError:\n",
        "  pass\n",
        "else:\n",
        "  files.download('shakespeare_model.h5')"
      ],
      "execution_count": 14,
      "outputs": [
        {
          "output_type": "display_data",
          "data": {
            "application/javascript": [
              "\n",
              "    async function download(id, filename, size) {\n",
              "      if (!google.colab.kernel.accessAllowed) {\n",
              "        return;\n",
              "      }\n",
              "      const div = document.createElement('div');\n",
              "      const label = document.createElement('label');\n",
              "      label.textContent = `Downloading \"${filename}\": `;\n",
              "      div.appendChild(label);\n",
              "      const progress = document.createElement('progress');\n",
              "      progress.max = size;\n",
              "      div.appendChild(progress);\n",
              "      document.body.appendChild(div);\n",
              "\n",
              "      const buffers = [];\n",
              "      let downloaded = 0;\n",
              "\n",
              "      const channel = await google.colab.kernel.comms.open(id);\n",
              "      // Send a message to notify the kernel that we're ready.\n",
              "      channel.send({})\n",
              "\n",
              "      for await (const message of channel.messages) {\n",
              "        // Send a message to notify the kernel that we're ready.\n",
              "        channel.send({})\n",
              "        if (message.buffers) {\n",
              "          for (const buffer of message.buffers) {\n",
              "            buffers.push(buffer);\n",
              "            downloaded += buffer.byteLength;\n",
              "            progress.value = downloaded;\n",
              "          }\n",
              "        }\n",
              "      }\n",
              "      const blob = new Blob(buffers, {type: 'application/binary'});\n",
              "      const a = document.createElement('a');\n",
              "      a.href = window.URL.createObjectURL(blob);\n",
              "      a.download = filename;\n",
              "      div.appendChild(a);\n",
              "      a.click();\n",
              "      div.remove();\n",
              "    }\n",
              "  "
            ],
            "text/plain": [
              "<IPython.core.display.Javascript object>"
            ]
          },
          "metadata": {
            "tags": []
          }
        },
        {
          "output_type": "display_data",
          "data": {
            "application/javascript": [
              "download(\"download_40467523-1893-4351-b441-4f9afa869a99\", \"shakespeare_model.h5\", 19115124)"
            ],
            "text/plain": [
              "<IPython.core.display.Javascript object>"
            ]
          },
          "metadata": {
            "tags": []
          }
        }
      ]
    },
    {
      "cell_type": "code",
      "metadata": {
        "id": "JGE8sJiwswNB",
        "colab_type": "code",
        "colab": {}
      },
      "source": [
        ""
      ],
      "execution_count": null,
      "outputs": []
    }
  ]
}