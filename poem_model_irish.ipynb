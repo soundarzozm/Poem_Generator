{
  "nbformat": 4,
  "nbformat_minor": 0,
  "metadata": {
    "colab": {
      "name": "poem_model_irish.ipynb",
      "provenance": [],
      "collapsed_sections": [],
      "authorship_tag": "ABX9TyM4Q/qtM6QUBMlbQ/vxhusH"
    },
    "kernelspec": {
      "name": "python3",
      "display_name": "Python 3"
    },
    "accelerator": "GPU"
  },
  "cells": [
    {
      "cell_type": "code",
      "metadata": {
        "id": "0ucr1V7h7N7z",
        "colab_type": "code",
        "colab": {}
      },
      "source": [
        "from tensorflow.keras.preprocessing.sequence import pad_sequences\n",
        "from tensorflow.keras.layers import Embedding, LSTM, Dense, Dropout, Bidirectional\n",
        "from tensorflow.keras.preprocessing.text import Tokenizer\n",
        "from tensorflow.keras.models import Sequential\n",
        "from tensorflow.keras.optimizers import Adam\n",
        "from tensorflow.keras.regularizers import L2\n",
        "import tensorflow.keras.callbacks\n",
        "import tensorflow.keras.utils as ku \n",
        "import numpy as np "
      ],
      "execution_count": 1,
      "outputs": []
    },
    {
      "cell_type": "code",
      "metadata": {
        "id": "82Pv3UUjAszy",
        "colab_type": "code",
        "colab": {
          "base_uri": "https://localhost:8080/",
          "height": 207
        },
        "outputId": "c68756be-f1cb-4691-a6dc-ed7b7f0754c8"
      },
      "source": [
        "!wget --no-check-certificate \\\n",
        "    https://storage.googleapis.com/laurencemoroney-blog.appspot.com/irish-lyrics-eof.txt \\\n",
        "    -O /tmp/irish-lyrics-eof.txt\n",
        "data_irish = open('/tmp/irish-lyrics-eof.txt').read()"
      ],
      "execution_count": 2,
      "outputs": [
        {
          "output_type": "stream",
          "text": [
            "--2020-09-05 14:47:04--  https://storage.googleapis.com/laurencemoroney-blog.appspot.com/irish-lyrics-eof.txt\n",
            "Resolving storage.googleapis.com (storage.googleapis.com)... 74.125.142.128, 74.125.195.128, 74.125.20.128, ...\n",
            "Connecting to storage.googleapis.com (storage.googleapis.com)|74.125.142.128|:443... connected.\n",
            "HTTP request sent, awaiting response... 200 OK\n",
            "Length: 68970 (67K) [text/plain]\n",
            "Saving to: ‘/tmp/irish-lyrics-eof.txt’\n",
            "\n",
            "\r          /tmp/iris   0%[                    ]       0  --.-KB/s               \r/tmp/irish-lyrics-e 100%[===================>]  67.35K  --.-KB/s    in 0s      \n",
            "\n",
            "2020-09-05 14:47:04 (143 MB/s) - ‘/tmp/irish-lyrics-eof.txt’ saved [68970/68970]\n",
            "\n"
          ],
          "name": "stdout"
        }
      ]
    },
    {
      "cell_type": "code",
      "metadata": {
        "id": "AtgGwoJCCBMx",
        "colab_type": "code",
        "colab": {}
      },
      "source": [
        "tokenizer_irish = Tokenizer()\n",
        "\n",
        "corpus_irish = data_irish.lower().split(\"\\n\")\n",
        "\n",
        "tokenizer_irish.fit_on_texts(corpus_irish)\n",
        "total_words_irish = len(tokenizer_irish.word_index) + 1\n",
        "\n",
        "# create input sequences using list of tokens\n",
        "input_sequences_irish = []\n",
        "for line in corpus_irish:\n",
        "\ttoken_list = tokenizer_irish.texts_to_sequences([line])[0]\n",
        "\tfor i in range(1, len(token_list)):\n",
        "\t\tn_gram_sequence = token_list[:i+1]\n",
        "\t\tinput_sequences_irish.append(n_gram_sequence)\n",
        "\n",
        "\n",
        "# pad sequences \n",
        "max_sequence_len_irish = max([len(x) for x in input_sequences_irish])\n",
        "input_sequences_irish = np.array(pad_sequences(input_sequences_irish, maxlen=max_sequence_len_irish, padding='pre'))\n",
        "\n",
        "# create predictors and label\n",
        "predictors_irish, label_irish = input_sequences_irish[:,:-1],input_sequences_irish[:,-1]\n",
        "\n",
        "label_irish = ku.to_categorical(label_irish, num_classes=total_words_irish)"
      ],
      "execution_count": 3,
      "outputs": []
    },
    {
      "cell_type": "code",
      "metadata": {
        "id": "kbYQ9xiZVVXG",
        "colab_type": "code",
        "colab": {
          "base_uri": "https://localhost:8080/",
          "height": 35
        },
        "outputId": "7b781049-db6f-4e05-c083-51441d4f8e0f"
      },
      "source": [
        "tokenizer_irish.word_index['meadow']"
      ],
      "execution_count": 4,
      "outputs": [
        {
          "output_type": "execute_result",
          "data": {
            "text/plain": [
              "945"
            ]
          },
          "metadata": {
            "tags": []
          },
          "execution_count": 4
        }
      ]
    },
    {
      "cell_type": "code",
      "metadata": {
        "id": "D_dLg8DGN1Bo",
        "colab_type": "code",
        "colab": {
          "base_uri": "https://localhost:8080/",
          "height": 35
        },
        "outputId": "cf050bf7-bad1-4cdc-83a9-8f8876370ce7"
      },
      "source": [
        "print(max_sequence_len_irish)"
      ],
      "execution_count": 5,
      "outputs": [
        {
          "output_type": "stream",
          "text": [
            "16\n"
          ],
          "name": "stdout"
        }
      ]
    },
    {
      "cell_type": "code",
      "metadata": {
        "id": "aLae3St7Orth",
        "colab_type": "code",
        "colab": {
          "base_uri": "https://localhost:8080/",
          "height": 35
        },
        "outputId": "d5f465d2-f247-414e-dd34-c67e9b5f996f"
      },
      "source": [
        "total_words_irish"
      ],
      "execution_count": 6,
      "outputs": [
        {
          "output_type": "execute_result",
          "data": {
            "text/plain": [
              "2690"
            ]
          },
          "metadata": {
            "tags": []
          },
          "execution_count": 6
        }
      ]
    },
    {
      "cell_type": "code",
      "metadata": {
        "id": "sP2Bvxf1Fu9C",
        "colab_type": "code",
        "colab": {
          "base_uri": "https://localhost:8080/",
          "height": 138
        },
        "outputId": "ed863efa-90a1-4538-fc10-1053c0f5bc00"
      },
      "source": [
        "label_irish[:20]"
      ],
      "execution_count": 7,
      "outputs": [
        {
          "output_type": "execute_result",
          "data": {
            "text/plain": [
              "array([[0., 0., 0., ..., 0., 0., 0.],\n",
              "       [0., 0., 0., ..., 0., 0., 0.],\n",
              "       [0., 0., 0., ..., 0., 0., 0.],\n",
              "       ...,\n",
              "       [0., 0., 0., ..., 0., 0., 0.],\n",
              "       [0., 0., 0., ..., 0., 0., 0.],\n",
              "       [0., 0., 0., ..., 0., 0., 0.]], dtype=float32)"
            ]
          },
          "metadata": {
            "tags": []
          },
          "execution_count": 7
        }
      ]
    },
    {
      "cell_type": "code",
      "metadata": {
        "id": "Nde3thh3F2RM",
        "colab_type": "code",
        "colab": {
          "base_uri": "https://localhost:8080/",
          "height": 276
        },
        "outputId": "a4296a3f-5d3d-4c1d-9f44-fd2b4d7a688c"
      },
      "source": [
        "model_irish = Sequential()\n",
        "model_irish.add(Embedding(total_words_irish, 100, input_length=max_sequence_len_irish-1))\n",
        "model_irish.add(Bidirectional(LSTM(150)))\n",
        "#model_irish.add(Dropout(0.2))\n",
        "#model_irish.add(LSTM(100))\n",
        "#model_irish.add(Dense(32, kernel_regularizer=L2(0.01), activation='relu'))\n",
        "model_irish.add(Dense(total_words_irish, activation='softmax'))\n",
        "\n",
        "optimizer = Adam(lr=0.01)\n",
        "\n",
        "model_irish.compile(loss='categorical_crossentropy', optimizer=optimizer, metrics=['accuracy'])\n",
        "print(model_irish.summary())"
      ],
      "execution_count": 8,
      "outputs": [
        {
          "output_type": "stream",
          "text": [
            "Model: \"sequential\"\n",
            "_________________________________________________________________\n",
            "Layer (type)                 Output Shape              Param #   \n",
            "=================================================================\n",
            "embedding (Embedding)        (None, 15, 100)           269000    \n",
            "_________________________________________________________________\n",
            "bidirectional (Bidirectional (None, 300)               301200    \n",
            "_________________________________________________________________\n",
            "dense (Dense)                (None, 2690)              809690    \n",
            "=================================================================\n",
            "Total params: 1,379,890\n",
            "Trainable params: 1,379,890\n",
            "Non-trainable params: 0\n",
            "_________________________________________________________________\n",
            "None\n"
          ],
          "name": "stdout"
        }
      ]
    },
    {
      "cell_type": "code",
      "metadata": {
        "id": "hcaKzzPbi7Fm",
        "colab_type": "code",
        "colab": {}
      },
      "source": [
        "lr_schedule = tensorflow.keras.callbacks.LearningRateScheduler(\n",
        "    lambda epoch: 1e-5 * 10**(epoch / 20))"
      ],
      "execution_count": 9,
      "outputs": []
    },
    {
      "cell_type": "code",
      "metadata": {
        "id": "83sMvixoIleW",
        "colab_type": "code",
        "colab": {
          "base_uri": "https://localhost:8080/",
          "height": 1000
        },
        "outputId": "728d50fb-f22e-4fa8-c72d-2f6edf7ae722"
      },
      "source": [
        "history_irish = model_irish.fit(predictors_irish, label_irish, epochs=80, verbose=1, \n",
        "                                #callbacks=[lr_schedule]\n",
        "                                )"
      ],
      "execution_count": 10,
      "outputs": [
        {
          "output_type": "stream",
          "text": [
            "Epoch 1/80\n",
            "377/377 [==============================] - 4s 9ms/step - loss: 6.6160 - accuracy: 0.0763\n",
            "Epoch 2/80\n",
            "377/377 [==============================] - 4s 9ms/step - loss: 5.7412 - accuracy: 0.1189\n",
            "Epoch 3/80\n",
            "377/377 [==============================] - 3s 9ms/step - loss: 4.8793 - accuracy: 0.1645\n",
            "Epoch 4/80\n",
            "377/377 [==============================] - 4s 9ms/step - loss: 3.9680 - accuracy: 0.2383\n",
            "Epoch 5/80\n",
            "377/377 [==============================] - 4s 9ms/step - loss: 3.1537 - accuracy: 0.3313\n",
            "Epoch 6/80\n",
            "377/377 [==============================] - 3s 9ms/step - loss: 2.4710 - accuracy: 0.4443\n",
            "Epoch 7/80\n",
            "377/377 [==============================] - 3s 9ms/step - loss: 1.9750 - accuracy: 0.5392\n",
            "Epoch 8/80\n",
            "377/377 [==============================] - 3s 9ms/step - loss: 1.6143 - accuracy: 0.6187\n",
            "Epoch 9/80\n",
            "377/377 [==============================] - 3s 9ms/step - loss: 1.3785 - accuracy: 0.6685\n",
            "Epoch 10/80\n",
            "377/377 [==============================] - 3s 9ms/step - loss: 1.1812 - accuracy: 0.7142\n",
            "Epoch 11/80\n",
            "377/377 [==============================] - 3s 9ms/step - loss: 1.1074 - accuracy: 0.7276\n",
            "Epoch 12/80\n",
            "377/377 [==============================] - 3s 9ms/step - loss: 1.0611 - accuracy: 0.7370\n",
            "Epoch 13/80\n",
            "377/377 [==============================] - 3s 9ms/step - loss: 1.0345 - accuracy: 0.7423\n",
            "Epoch 14/80\n",
            "377/377 [==============================] - 3s 9ms/step - loss: 1.1026 - accuracy: 0.7232\n",
            "Epoch 15/80\n",
            "377/377 [==============================] - 3s 9ms/step - loss: 1.1260 - accuracy: 0.7146\n",
            "Epoch 16/80\n",
            "377/377 [==============================] - 3s 9ms/step - loss: 1.0969 - accuracy: 0.7172\n",
            "Epoch 17/80\n",
            "377/377 [==============================] - 3s 9ms/step - loss: 1.0335 - accuracy: 0.7323\n",
            "Epoch 18/80\n",
            "377/377 [==============================] - 3s 9ms/step - loss: 0.9524 - accuracy: 0.7525\n",
            "Epoch 19/80\n",
            "377/377 [==============================] - 3s 9ms/step - loss: 0.9153 - accuracy: 0.7604\n",
            "Epoch 20/80\n",
            "377/377 [==============================] - 3s 9ms/step - loss: 0.8729 - accuracy: 0.7780\n",
            "Epoch 21/80\n",
            "377/377 [==============================] - 3s 9ms/step - loss: 0.8592 - accuracy: 0.7793\n",
            "Epoch 22/80\n",
            "377/377 [==============================] - 3s 9ms/step - loss: 0.8919 - accuracy: 0.7680\n",
            "Epoch 23/80\n",
            "377/377 [==============================] - 3s 9ms/step - loss: 1.0346 - accuracy: 0.7318\n",
            "Epoch 24/80\n",
            "377/377 [==============================] - 3s 9ms/step - loss: 1.1092 - accuracy: 0.7105\n",
            "Epoch 25/80\n",
            "377/377 [==============================] - 3s 9ms/step - loss: 1.0917 - accuracy: 0.7116\n",
            "Epoch 26/80\n",
            "377/377 [==============================] - 4s 9ms/step - loss: 0.9901 - accuracy: 0.7382\n",
            "Epoch 27/80\n",
            "377/377 [==============================] - 4s 11ms/step - loss: 0.8762 - accuracy: 0.7729\n",
            "Epoch 28/80\n",
            "377/377 [==============================] - 4s 11ms/step - loss: 0.8088 - accuracy: 0.7871\n",
            "Epoch 29/80\n",
            "377/377 [==============================] - 4s 10ms/step - loss: 0.7504 - accuracy: 0.8049\n",
            "Epoch 30/80\n",
            "377/377 [==============================] - 4s 9ms/step - loss: 0.7302 - accuracy: 0.8079\n",
            "Epoch 31/80\n",
            "377/377 [==============================] - 4s 9ms/step - loss: 0.7835 - accuracy: 0.7933\n",
            "Epoch 32/80\n",
            "377/377 [==============================] - 3s 9ms/step - loss: 0.9270 - accuracy: 0.7547\n",
            "Epoch 33/80\n",
            "377/377 [==============================] - 3s 9ms/step - loss: 1.1223 - accuracy: 0.7029\n",
            "Epoch 34/80\n",
            "377/377 [==============================] - 3s 9ms/step - loss: 1.2060 - accuracy: 0.6867\n",
            "Epoch 35/80\n",
            "377/377 [==============================] - 3s 9ms/step - loss: 1.0839 - accuracy: 0.7141\n",
            "Epoch 36/80\n",
            "377/377 [==============================] - 3s 9ms/step - loss: 1.0119 - accuracy: 0.7303\n",
            "Epoch 37/80\n",
            "377/377 [==============================] - 3s 9ms/step - loss: 0.9022 - accuracy: 0.7608\n",
            "Epoch 38/80\n",
            "377/377 [==============================] - 3s 9ms/step - loss: 0.8807 - accuracy: 0.7663\n",
            "Epoch 39/80\n",
            "377/377 [==============================] - 3s 9ms/step - loss: 0.8086 - accuracy: 0.7870\n",
            "Epoch 40/80\n",
            "377/377 [==============================] - 3s 9ms/step - loss: 0.7604 - accuracy: 0.7973\n",
            "Epoch 41/80\n",
            "377/377 [==============================] - 3s 9ms/step - loss: 0.7879 - accuracy: 0.7940\n",
            "Epoch 42/80\n",
            "377/377 [==============================] - 3s 9ms/step - loss: 0.8494 - accuracy: 0.7762\n",
            "Epoch 43/80\n",
            "377/377 [==============================] - 3s 9ms/step - loss: 0.9602 - accuracy: 0.7448\n",
            "Epoch 44/80\n",
            "377/377 [==============================] - 3s 9ms/step - loss: 0.9578 - accuracy: 0.7469\n",
            "Epoch 45/80\n",
            "377/377 [==============================] - 3s 9ms/step - loss: 1.0735 - accuracy: 0.7266\n",
            "Epoch 46/80\n",
            "377/377 [==============================] - 3s 9ms/step - loss: 1.0419 - accuracy: 0.7227\n",
            "Epoch 47/80\n",
            "377/377 [==============================] - 3s 9ms/step - loss: 0.9440 - accuracy: 0.7441\n",
            "Epoch 48/80\n",
            "377/377 [==============================] - 3s 9ms/step - loss: 0.9786 - accuracy: 0.7435\n",
            "Epoch 49/80\n",
            "377/377 [==============================] - 3s 9ms/step - loss: 0.9301 - accuracy: 0.7499\n",
            "Epoch 50/80\n",
            "377/377 [==============================] - 3s 9ms/step - loss: 0.8577 - accuracy: 0.7708\n",
            "Epoch 51/80\n",
            "377/377 [==============================] - 3s 9ms/step - loss: 0.7899 - accuracy: 0.7917\n",
            "Epoch 52/80\n",
            "377/377 [==============================] - 3s 9ms/step - loss: 0.7636 - accuracy: 0.7961\n",
            "Epoch 53/80\n",
            "377/377 [==============================] - 3s 9ms/step - loss: 0.7552 - accuracy: 0.7995\n",
            "Epoch 54/80\n",
            "377/377 [==============================] - 3s 9ms/step - loss: 0.7753 - accuracy: 0.7914\n",
            "Epoch 55/80\n",
            "377/377 [==============================] - 3s 9ms/step - loss: 0.8887 - accuracy: 0.7672\n",
            "Epoch 56/80\n",
            "377/377 [==============================] - 3s 9ms/step - loss: 0.9667 - accuracy: 0.7422\n",
            "Epoch 57/80\n",
            "377/377 [==============================] - 3s 9ms/step - loss: 1.0452 - accuracy: 0.7236\n",
            "Epoch 58/80\n",
            "377/377 [==============================] - 3s 9ms/step - loss: 1.0563 - accuracy: 0.7276\n",
            "Epoch 59/80\n",
            "377/377 [==============================] - 3s 9ms/step - loss: 0.9864 - accuracy: 0.7427\n",
            "Epoch 60/80\n",
            "377/377 [==============================] - 3s 9ms/step - loss: 0.9104 - accuracy: 0.7585\n",
            "Epoch 61/80\n",
            "377/377 [==============================] - 3s 9ms/step - loss: 0.8028 - accuracy: 0.7888\n",
            "Epoch 62/80\n",
            "377/377 [==============================] - 3s 9ms/step - loss: 0.7699 - accuracy: 0.8014\n",
            "Epoch 63/80\n",
            "377/377 [==============================] - 3s 9ms/step - loss: 0.7628 - accuracy: 0.8010\n",
            "Epoch 64/80\n",
            "377/377 [==============================] - 3s 9ms/step - loss: 0.8402 - accuracy: 0.7829\n",
            "Epoch 65/80\n",
            "377/377 [==============================] - 3s 9ms/step - loss: 0.9606 - accuracy: 0.7505\n",
            "Epoch 66/80\n",
            "377/377 [==============================] - 3s 9ms/step - loss: 1.0406 - accuracy: 0.7264\n",
            "Epoch 67/80\n",
            "377/377 [==============================] - 3s 9ms/step - loss: 0.9983 - accuracy: 0.7407\n",
            "Epoch 68/80\n",
            "377/377 [==============================] - 3s 9ms/step - loss: 0.9518 - accuracy: 0.7498\n",
            "Epoch 69/80\n",
            "377/377 [==============================] - 3s 9ms/step - loss: 0.8847 - accuracy: 0.7652\n",
            "Epoch 70/80\n",
            "377/377 [==============================] - 3s 9ms/step - loss: 0.8287 - accuracy: 0.7815\n",
            "Epoch 71/80\n",
            "377/377 [==============================] - 3s 9ms/step - loss: 0.7840 - accuracy: 0.7927\n",
            "Epoch 72/80\n",
            "377/377 [==============================] - 3s 9ms/step - loss: 0.7666 - accuracy: 0.7953\n",
            "Epoch 73/80\n",
            "377/377 [==============================] - 3s 9ms/step - loss: 0.7596 - accuracy: 0.7973\n",
            "Epoch 74/80\n",
            "377/377 [==============================] - 3s 9ms/step - loss: 0.7954 - accuracy: 0.7922\n",
            "Epoch 75/80\n",
            "377/377 [==============================] - 3s 9ms/step - loss: 0.8738 - accuracy: 0.7709\n",
            "Epoch 76/80\n",
            "377/377 [==============================] - 3s 9ms/step - loss: 0.9564 - accuracy: 0.7486\n",
            "Epoch 77/80\n",
            "377/377 [==============================] - 3s 9ms/step - loss: 0.9816 - accuracy: 0.7417\n",
            "Epoch 78/80\n",
            "377/377 [==============================] - 3s 9ms/step - loss: 0.9638 - accuracy: 0.7456\n",
            "Epoch 79/80\n",
            "377/377 [==============================] - 3s 9ms/step - loss: 0.8879 - accuracy: 0.7634\n",
            "Epoch 80/80\n",
            "377/377 [==============================] - 3s 9ms/step - loss: 0.8264 - accuracy: 0.7755\n"
          ],
          "name": "stdout"
        }
      ]
    },
    {
      "cell_type": "code",
      "metadata": {
        "id": "kmPXHzBTJG7-",
        "colab_type": "code",
        "colab": {
          "base_uri": "https://localhost:8080/",
          "height": 35
        },
        "outputId": "fa2732db-5a5e-4682-e615-88bc94c295bb"
      },
      "source": [
        "import matplotlib.pyplot as plt\n",
        "\n",
        "\"\"\"plt.semilogx(history_irish.history[\"lr\"], history_irish.history[\"loss\"])\n",
        "plt.axis([1e-3, 4e-2, 0, 6])\"\"\""
      ],
      "execution_count": 11,
      "outputs": [
        {
          "output_type": "execute_result",
          "data": {
            "application/vnd.google.colaboratory.intrinsic+json": {
              "type": "string"
            },
            "text/plain": [
              "'plt.semilogx(history_irish.history[\"lr\"], history_irish.history[\"loss\"])\\nplt.axis([1e-3, 4e-2, 0, 6])'"
            ]
          },
          "metadata": {
            "tags": []
          },
          "execution_count": 11
        }
      ]
    },
    {
      "cell_type": "code",
      "metadata": {
        "id": "zjQdDPu45hbR",
        "colab_type": "code",
        "colab": {
          "base_uri": "https://localhost:8080/",
          "height": 545
        },
        "outputId": "ce2f92f5-a0eb-4e32-8f07-3dedde03e447"
      },
      "source": [
        "acc = history_irish.history['accuracy']\n",
        "loss = history_irish.history['loss']\n",
        "\n",
        "epochs = range(len(acc))\n",
        "\n",
        "plt.plot(epochs, acc, 'b', label='Training accuracy')\n",
        "plt.title('Training accuracy')\n",
        "\n",
        "plt.figure()\n",
        "\n",
        "plt.plot(epochs, loss, 'b', label='Training Loss')\n",
        "plt.title('Training loss')\n",
        "plt.legend()\n",
        "\n",
        "plt.show()"
      ],
      "execution_count": 12,
      "outputs": [
        {
          "output_type": "display_data",
          "data": {
            "image/png": "[encoded data removed]",
            "text/plain": [
              "<Figure size 432x288 with 1 Axes>"
            ]
          },
          "metadata": {
            "tags": [],
            "needs_background": "light"
          }
        },
        {
          "output_type": "display_data",
          "data": {
            "image/png": "[encoded data removed]",
            "text/plain": [
              "<Figure size 432x288 with 1 Axes>"
            ]
          },
          "metadata": {
            "tags": [],
            "needs_background": "light"
          }
        }
      ]
    },
    {
      "cell_type": "code",
      "metadata": {
        "id": "ojDKaC5NUBqr",
        "colab_type": "code",
        "colab": {
          "base_uri": "https://localhost:8080/",
          "height": 106
        },
        "outputId": "e0a0d783-9ae3-41d0-bb4f-ba00299b40d4"
      },
      "source": [
        "seed_text = \"Oh my dear, I\"\n",
        "next_words = 50\n",
        "  \n",
        "for _ in range(next_words):\n",
        "\ttoken_list = tokenizer_irish.texts_to_sequences([seed_text])[0]\n",
        "\ttoken_list = pad_sequences([token_list], maxlen=max_sequence_len_irish-1, padding='pre')\n",
        "\tpredicted = model_irish.predict_classes(token_list, verbose=0)\n",
        "\toutput_word = \"\"\n",
        "\tfor word, index in tokenizer_irish.word_index.items():\n",
        "\t\tif index == predicted:\n",
        "\t\t\toutput_word = word\n",
        "\t\t\tbreak\n",
        "\tseed_text += \" \" + output_word\n",
        "print(seed_text)"
      ],
      "execution_count": 13,
      "outputs": [
        {
          "output_type": "stream",
          "text": [
            "WARNING:tensorflow:From <ipython-input-13-6ed3f591ba9e>:7: Sequential.predict_classes (from tensorflow.python.keras.engine.sequential) is deprecated and will be removed after 2021-01-01.\n",
            "Instructions for updating:\n",
            "Please use instead:* `np.argmax(model.predict(x), axis=-1)`,   if your model does multi-class classification   (e.g. if it uses a `softmax` last-layer activation).* `(model.predict(x) > 0.5).astype(\"int32\")`,   if your model does binary classification   (e.g. if it uses a `sigmoid` last-layer activation).\n",
            "Oh my dear, I was going to derry quay provost and laid her hand on the cliffs of doneen gone wont young odd round his honor down so duram on around the gate first man doesnt were gone gone over the way of neer come and awake make the love in your long must\n"
          ],
          "name": "stdout"
        }
      ]
    },
    {
      "cell_type": "code",
      "metadata": {
        "id": "AefyqOWXUNKc",
        "colab_type": "code",
        "colab": {}
      },
      "source": [
        "model_irish.save('irish_model.h5') "
      ],
      "execution_count": 14,
      "outputs": []
    },
    {
      "cell_type": "code",
      "metadata": {
        "id": "OjG2oWBosWNG",
        "colab_type": "code",
        "colab": {
          "base_uri": "https://localhost:8080/",
          "height": 17
        },
        "outputId": "ba03a6d6-daa8-41e9-fd46-ed9075d1f734"
      },
      "source": [
        "try:\n",
        "  from google.colab import files\n",
        "except ImportError:\n",
        "  pass\n",
        "else:\n",
        "  files.download('irish_model.h5')"
      ],
      "execution_count": 15,
      "outputs": [
        {
          "output_type": "display_data",
          "data": {
            "application/javascript": [
              "\n",
              "    async function download(id, filename, size) {\n",
              "      if (!google.colab.kernel.accessAllowed) {\n",
              "        return;\n",
              "      }\n",
              "      const div = document.createElement('div');\n",
              "      const label = document.createElement('label');\n",
              "      label.textContent = `Downloading \"${filename}\": `;\n",
              "      div.appendChild(label);\n",
              "      const progress = document.createElement('progress');\n",
              "      progress.max = size;\n",
              "      div.appendChild(progress);\n",
              "      document.body.appendChild(div);\n",
              "\n",
              "      const buffers = [];\n",
              "      let downloaded = 0;\n",
              "\n",
              "      const channel = await google.colab.kernel.comms.open(id);\n",
              "      // Send a message to notify the kernel that we're ready.\n",
              "      channel.send({})\n",
              "\n",
              "      for await (const message of channel.messages) {\n",
              "        // Send a message to notify the kernel that we're ready.\n",
              "        channel.send({})\n",
              "        if (message.buffers) {\n",
              "          for (const buffer of message.buffers) {\n",
              "            buffers.push(buffer);\n",
              "            downloaded += buffer.byteLength;\n",
              "            progress.value = downloaded;\n",
              "          }\n",
              "        }\n",
              "      }\n",
              "      const blob = new Blob(buffers, {type: 'application/binary'});\n",
              "      const a = document.createElement('a');\n",
              "      a.href = window.URL.createObjectURL(blob);\n",
              "      a.download = filename;\n",
              "      div.appendChild(a);\n",
              "      a.click();\n",
              "      div.remove();\n",
              "    }\n",
              "  "
            ],
            "text/plain": [
              "<IPython.core.display.Javascript object>"
            ]
          },
          "metadata": {
            "tags": []
          }
        },
        {
          "output_type": "display_data",
          "data": {
            "application/javascript": [
              "download(\"download_25330a90-4cee-4601-94f8-81978a83c2ea\", \"irish_model.h5\", 16608072)"
            ],
            "text/plain": [
              "<IPython.core.display.Javascript object>"
            ]
          },
          "metadata": {
            "tags": []
          }
        }
      ]
    },
    {
      "cell_type": "code",
      "metadata": {
        "id": "xhTdpLG6sZoS",
        "colab_type": "code",
        "colab": {}
      },
      "source": [
        ""
      ],
      "execution_count": 15,
      "outputs": []
    }
  ]
}