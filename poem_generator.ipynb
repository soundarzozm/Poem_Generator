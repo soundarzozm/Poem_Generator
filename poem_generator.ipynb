{
  "nbformat": 4,
  "nbformat_minor": 0,
  "metadata": {
    "colab": {
      "name": "poem_generator.ipynb",
      "provenance": [],
      "authorship_tag": "ABX9TyNsh/H0g7Q7jzybH4ZXSVVu"
    },
    "kernelspec": {
      "name": "python3",
      "display_name": "Python 3"
    }
  },
  "cells": [
    {
      "cell_type": "code",
      "metadata": {
        "id": "MteFuLFlvSfN",
        "colab_type": "code",
        "colab": {}
      },
      "source": [
        "import tensorflow\n",
        "from tensorflow.keras.preprocessing.sequence import pad_sequences\n",
        "from tensorflow.keras.preprocessing.text import Tokenizer\n",
        "import tensorflow.keras.utils as ku \n",
        "import numpy as np"
      ],
      "execution_count": 1,
      "outputs": []
    },
    {
      "cell_type": "code",
      "metadata": {
        "id": "xhcaKuISvkJd",
        "colab_type": "code",
        "colab": {
          "base_uri": "https://localhost:8080/",
          "height": 207
        },
        "outputId": "279b50aa-b073-4d43-dd08-ff91aaa89b89"
      },
      "source": [
        "!wget --no-check-certificate \\\n",
        "    https://storage.googleapis.com/laurencemoroney-blog.appspot.com/irish-lyrics-eof.txt \\\n",
        "    -O /tmp/irish-lyrics-eof.txt\n",
        "data_irish = open('/tmp/irish-lyrics-eof.txt').read()"
      ],
      "execution_count": 2,
      "outputs": [
        {
          "output_type": "stream",
          "text": [
            "--2020-09-05 15:13:18--  https://storage.googleapis.com/laurencemoroney-blog.appspot.com/irish-lyrics-eof.txt\n",
            "Resolving storage.googleapis.com (storage.googleapis.com)... 108.177.127.128, 172.217.218.128, 108.177.119.128, ...\n",
            "Connecting to storage.googleapis.com (storage.googleapis.com)|108.177.127.128|:443... connected.\n",
            "HTTP request sent, awaiting response... 200 OK\n",
            "Length: 68970 (67K) [text/plain]\n",
            "Saving to: ‘/tmp/irish-lyrics-eof.txt’\n",
            "\n",
            "\r          /tmp/iris   0%[                    ]       0  --.-KB/s               \r/tmp/irish-lyrics-e 100%[===================>]  67.35K  --.-KB/s    in 0.001s  \n",
            "\n",
            "2020-09-05 15:13:18 (107 MB/s) - ‘/tmp/irish-lyrics-eof.txt’ saved [68970/68970]\n",
            "\n"
          ],
          "name": "stdout"
        }
      ]
    },
    {
      "cell_type": "code",
      "metadata": {
        "id": "yDOet714vquk",
        "colab_type": "code",
        "colab": {
          "base_uri": "https://localhost:8080/",
          "height": 207
        },
        "outputId": "a1618562-ff33-4018-8de5-bfc49eb3a51d"
      },
      "source": [
        "!wget --no-check-certificate \\\n",
        "    https://storage.googleapis.com/laurencemoroney-blog.appspot.com/sonnets.txt \\\n",
        "    -O /tmp/sonnets.txt\n",
        "data_shakespeare = open('/tmp/sonnets.txt').read()"
      ],
      "execution_count": 3,
      "outputs": [
        {
          "output_type": "stream",
          "text": [
            "--2020-09-05 15:13:18--  https://storage.googleapis.com/laurencemoroney-blog.appspot.com/sonnets.txt\n",
            "Resolving storage.googleapis.com (storage.googleapis.com)... 108.177.119.128, 108.177.126.128, 108.177.127.128, ...\n",
            "Connecting to storage.googleapis.com (storage.googleapis.com)|108.177.119.128|:443... connected.\n",
            "HTTP request sent, awaiting response... 200 OK\n",
            "Length: 93578 (91K) [text/plain]\n",
            "Saving to: ‘/tmp/sonnets.txt’\n",
            "\n",
            "/tmp/sonnets.txt    100%[===================>]  91.38K  --.-KB/s    in 0.001s  \n",
            "\n",
            "2020-09-05 15:13:18 (93.5 MB/s) - ‘/tmp/sonnets.txt’ saved [93578/93578]\n",
            "\n"
          ],
          "name": "stdout"
        }
      ]
    },
    {
      "cell_type": "code",
      "metadata": {
        "id": "9JUfYsF2vsr7",
        "colab_type": "code",
        "colab": {}
      },
      "source": [
        "tokenizer_irish = Tokenizer()\n",
        "\n",
        "corpus_irish = data_irish.lower().split(\"\\n\")\n",
        "\n",
        "tokenizer_irish.fit_on_texts(corpus_irish)\n",
        "total_words_irish = len(tokenizer_irish.word_index) + 1\n",
        "\n",
        "# create input sequences using list of tokens\n",
        "input_sequences_irish = []\n",
        "for line in corpus_irish:\n",
        "\ttoken_list = tokenizer_irish.texts_to_sequences([line])[0]\n",
        "\tfor i in range(1, len(token_list)):\n",
        "\t\tn_gram_sequence = token_list[:i+1]\n",
        "\t\tinput_sequences_irish.append(n_gram_sequence)\n",
        "\n",
        "\n",
        "# pad sequences \n",
        "max_sequence_len_irish = max([len(x) for x in input_sequences_irish])\n",
        "input_sequences_irish = np.array(pad_sequences(input_sequences_irish, maxlen=max_sequence_len_irish, padding='pre'))\n",
        "\n",
        "# create predictors and label\n",
        "predictors_irish, label_irish = input_sequences_irish[:,:-1],input_sequences_irish[:,-1]\n",
        "\n",
        "label_irish = ku.to_categorical(label_irish, num_classes=total_words_irish)"
      ],
      "execution_count": 4,
      "outputs": []
    },
    {
      "cell_type": "code",
      "metadata": {
        "id": "dNedOQezvxsu",
        "colab_type": "code",
        "colab": {}
      },
      "source": [
        "tokenizer_shakespeare = Tokenizer()\n",
        "\n",
        "corpus_shakespeare  = data_shakespeare.lower().split(\"\\n\")\n",
        "\n",
        "tokenizer_shakespeare.fit_on_texts(corpus_shakespeare)\n",
        "total_words_shakespeare = len(tokenizer_shakespeare.word_index) + 1\n",
        "\n",
        "# create input sequences using list of tokens\n",
        "input_sequences_shakespeare = []\n",
        "for line in corpus_shakespeare:\n",
        "\ttoken_list = tokenizer_shakespeare.texts_to_sequences([line])[0]\n",
        "\tfor i in range(1, len(token_list)):\n",
        "\t\tn_gram_sequence = token_list[:i+1]\n",
        "\t\tinput_sequences_shakespeare.append(n_gram_sequence)\n",
        "\n",
        "\n",
        "# pad sequences \n",
        "max_sequence_len_shakespeare = max([len(x) for x in input_sequences_shakespeare])\n",
        "input_sequences_shakespeare = np.array(pad_sequences(input_sequences_shakespeare, maxlen=max_sequence_len_shakespeare, padding='pre'))\n",
        "\n",
        "# create predictors and label\n",
        "predictors_shakespeare, label_shakespeare = input_sequences_shakespeare[:,:-1],input_sequences_shakespeare[:,-1]\n",
        "\n",
        "label_shakespeare = ku.to_categorical(label_shakespeare, num_classes=total_words_shakespeare)"
      ],
      "execution_count": 5,
      "outputs": []
    },
    {
      "cell_type": "code",
      "metadata": {
        "id": "8plJQVHUv1lF",
        "colab_type": "code",
        "colab": {}
      },
      "source": [
        "model_irish = tensorflow.keras.models.load_model('irish_model.h5')\n",
        "model_shakespeare = tensorflow.keras.models.load_model('shakespeare_model.h5')"
      ],
      "execution_count": 10,
      "outputs": []
    },
    {
      "cell_type": "code",
      "metadata": {
        "id": "80Zv5DKowOPL",
        "colab_type": "code",
        "colab": {}
      },
      "source": [
        "def generate(seed_text, next_words, model_name):\n",
        "  if model_name=='irish':\n",
        "    for _ in range(next_words):\n",
        "\t    token_list = tokenizer_irish.texts_to_sequences([seed_text])[0]\n",
        "\t    token_list = pad_sequences([token_list], maxlen=max_sequence_len_irish-1, padding='pre')\n",
        "\t    predicted = model_irish.predict_classes(token_list, verbose=0)\n",
        "\t    output_word = \"\"\n",
        "\t    for word, index in tokenizer_irish.word_index.items():\n",
        "\t\t    if index == predicted:\n",
        "\t\t\t    output_word = word\n",
        "\t\t\t    break\n",
        "\t    seed_text += \" \" + output_word\n",
        "    return(seed_text)\n",
        "  elif model_name=='shakespeare':\n",
        "    for _ in range(next_words):\n",
        "\t    token_list = tokenizer_shakespeare.texts_to_sequences([seed_text])[0]\n",
        "\t    token_list = pad_sequences([token_list], maxlen=max_sequence_len_shakespeare-1, padding='pre')\n",
        "\t    predicted = model_shakespeare.predict_classes(token_list, verbose=0)\n",
        "\t    output_word = \"\"\n",
        "\t    for word, index in tokenizer_shakespeare.word_index.items():\n",
        "\t\t    if index == predicted:\n",
        "\t\t\t    output_word = word\n",
        "\t\t\t    break\n",
        "\t    seed_text += \" \" + output_word\n",
        "    return(seed_text)\n",
        "  else:\n",
        "    print('Invalid model name!')\n",
        "    return      \n"
      ],
      "execution_count": 11,
      "outputs": []
    },
    {
      "cell_type": "code",
      "metadata": {
        "id": "cY3PMzXxwpRJ",
        "colab_type": "code",
        "colab": {}
      },
      "source": [
        "seed_text = \"Oh my darling\"\n",
        "next_words = 50\n",
        "model_name = 'irish'"
      ],
      "execution_count": 12,
      "outputs": []
    },
    {
      "cell_type": "code",
      "metadata": {
        "id": "PfIfL9bnwtOW",
        "colab_type": "code",
        "colab": {
          "base_uri": "https://localhost:8080/",
          "height": 125
        },
        "outputId": "6aa839eb-f725-4125-ba37-0ff130d10d91"
      },
      "source": [
        "generate(seed_text, next_words, model_name)"
      ],
      "execution_count": 13,
      "outputs": [
        {
          "output_type": "stream",
          "text": [
            "WARNING:tensorflow:From <ipython-input-11-049e21506052>:6: Sequential.predict_classes (from tensorflow.python.keras.engine.sequential) is deprecated and will be removed after 2021-01-01.\n",
            "Instructions for updating:\n",
            "Please use instead:* `np.argmax(model.predict(x), axis=-1)`,   if your model does multi-class classification   (e.g. if it uses a `softmax` last-layer activation).* `(model.predict(x) > 0.5).astype(\"int32\")`,   if your model does binary classification   (e.g. if it uses a `sigmoid` last-layer activation).\n"
          ],
          "name": "stdout"
        },
        {
          "output_type": "execute_result",
          "data": {
            "application/vnd.google.colaboratory.intrinsic+json": {
              "type": "string"
            },
            "text/plain": [
              "'Oh my darling dear ye look so queer in botany be seen in the high rocky slopes round her eyes they gone away i love i had gone away i love them still bride love love me him love your love and farmstead and love tears to smother rarely here gone away love'"
            ]
          },
          "metadata": {
            "tags": []
          },
          "execution_count": 13
        }
      ]
    },
    {
      "cell_type": "code",
      "metadata": {
        "id": "Pk3jnoqxxMOd",
        "colab_type": "code",
        "colab": {}
      },
      "source": [
        "seed_text = \"My dear Juliet\"\n",
        "next_words = 50\n",
        "model_name = 'shakespeare'"
      ],
      "execution_count": 14,
      "outputs": []
    },
    {
      "cell_type": "code",
      "metadata": {
        "id": "Gn3XbBFSxNxz",
        "colab_type": "code",
        "colab": {
          "base_uri": "https://localhost:8080/",
          "height": 53
        },
        "outputId": "ac254dc8-09e2-4432-e87d-81c15c293657"
      },
      "source": [
        "generate(seed_text, next_words, model_name)"
      ],
      "execution_count": 15,
      "outputs": [
        {
          "output_type": "execute_result",
          "data": {
            "application/vnd.google.colaboratory.intrinsic+json": {
              "type": "string"
            },
            "text/plain": [
              "\"My dear Juliet love for i being whose is had thee blind all 'will ' ' of thee thee more bright invention quite breath mine eye there to mine eyes truths enfeebled yourself's importune thee thee thee thee thee bright you thee thee ' on thee so thee thee spent me thee thee\""
            ]
          },
          "metadata": {
            "tags": []
          },
          "execution_count": 15
        }
      ]
    }
  ]
}